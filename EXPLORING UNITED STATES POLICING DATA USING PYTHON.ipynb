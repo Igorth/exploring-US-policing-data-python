{
 "cells": [
  {
   "cell_type": "markdown",
   "metadata": {},
   "source": [
    "[Tutorial](https://blog.patricktriest.com/police-data-python/)"
   ]
  },
  {
   "cell_type": "markdown",
   "metadata": {},
   "source": [
    "### Importar as dependências"
   ]
  },
  {
   "cell_type": "code",
   "execution_count": 1,
   "metadata": {},
   "outputs": [],
   "source": [
    "import pandas as pd\n",
    "import numpy as np\n",
    "import matplotlib.pyplot as plt\n",
    "%matplotlib inline\n",
    "\n",
    "figsize = (16,8)"
   ]
  },
  {
   "cell_type": "markdown",
   "metadata": {},
   "source": [
    "### Importar o dataset"
   ]
  },
  {
   "cell_type": "code",
   "execution_count": 2,
   "metadata": {
    "scrolled": true
   },
   "outputs": [],
   "source": [
    "df_vt = pd.read_csv('VT-clean.csv.gz', compression='gzip', low_memory=False)"
   ]
  },
  {
   "cell_type": "markdown",
   "metadata": {},
   "source": [
    "## Exploração de dados em Vermont\n",
    "\n",
    "<img src=\"vermont.png\" />"
   ]
  },
  {
   "cell_type": "markdown",
   "metadata": {},
   "source": [
    "### Visualizando os dados do dataset"
   ]
  },
  {
   "cell_type": "code",
   "execution_count": 3,
   "metadata": {},
   "outputs": [
    {
     "data": {
      "text/html": [
       "<div>\n",
       "<style scoped>\n",
       "    .dataframe tbody tr th:only-of-type {\n",
       "        vertical-align: middle;\n",
       "    }\n",
       "\n",
       "    .dataframe tbody tr th {\n",
       "        vertical-align: top;\n",
       "    }\n",
       "\n",
       "    .dataframe thead th {\n",
       "        text-align: right;\n",
       "    }\n",
       "</style>\n",
       "<table border=\"1\" class=\"dataframe\">\n",
       "  <thead>\n",
       "    <tr style=\"text-align: right;\">\n",
       "      <th></th>\n",
       "      <th>id</th>\n",
       "      <th>state</th>\n",
       "      <th>stop_date</th>\n",
       "      <th>stop_time</th>\n",
       "      <th>location_raw</th>\n",
       "      <th>county_name</th>\n",
       "      <th>county_fips</th>\n",
       "      <th>fine_grained_location</th>\n",
       "      <th>police_department</th>\n",
       "      <th>driver_gender</th>\n",
       "      <th>...</th>\n",
       "      <th>driver_race</th>\n",
       "      <th>violation_raw</th>\n",
       "      <th>violation</th>\n",
       "      <th>search_conducted</th>\n",
       "      <th>search_type_raw</th>\n",
       "      <th>search_type</th>\n",
       "      <th>contraband_found</th>\n",
       "      <th>stop_outcome</th>\n",
       "      <th>is_arrested</th>\n",
       "      <th>officer_id</th>\n",
       "    </tr>\n",
       "  </thead>\n",
       "  <tbody>\n",
       "    <tr>\n",
       "      <th>0</th>\n",
       "      <td>VT-2010-00001</td>\n",
       "      <td>VT</td>\n",
       "      <td>2010-07-01</td>\n",
       "      <td>00:10</td>\n",
       "      <td>East Montpelier</td>\n",
       "      <td>Washington County</td>\n",
       "      <td>50023.0</td>\n",
       "      <td>COUNTY RD</td>\n",
       "      <td>MIDDLESEX VSP</td>\n",
       "      <td>M</td>\n",
       "      <td>...</td>\n",
       "      <td>White</td>\n",
       "      <td>Moving Violation</td>\n",
       "      <td>Moving violation</td>\n",
       "      <td>False</td>\n",
       "      <td>No Search Conducted</td>\n",
       "      <td>NaN</td>\n",
       "      <td>False</td>\n",
       "      <td>Citation</td>\n",
       "      <td>False</td>\n",
       "      <td>-1.562157e+09</td>\n",
       "    </tr>\n",
       "    <tr>\n",
       "      <th>1</th>\n",
       "      <td>VT-2010-00002</td>\n",
       "      <td>VT</td>\n",
       "      <td>2010-07-01</td>\n",
       "      <td>00:10</td>\n",
       "      <td>NaN</td>\n",
       "      <td>NaN</td>\n",
       "      <td>NaN</td>\n",
       "      <td>COUNTY RD; Fitch Road</td>\n",
       "      <td>MIDDLESEX VSP</td>\n",
       "      <td>F</td>\n",
       "      <td>...</td>\n",
       "      <td>White</td>\n",
       "      <td>Externally Generated Stop</td>\n",
       "      <td>Other</td>\n",
       "      <td>False</td>\n",
       "      <td>No Search Conducted</td>\n",
       "      <td>NaN</td>\n",
       "      <td>False</td>\n",
       "      <td>Arrest for Violation</td>\n",
       "      <td>True</td>\n",
       "      <td>-1.562157e+09</td>\n",
       "    </tr>\n",
       "    <tr>\n",
       "      <th>2</th>\n",
       "      <td>VT-2010-00003</td>\n",
       "      <td>VT</td>\n",
       "      <td>2010-07-01</td>\n",
       "      <td>00:10</td>\n",
       "      <td>NaN</td>\n",
       "      <td>NaN</td>\n",
       "      <td>NaN</td>\n",
       "      <td>COUNTY RD; Fitch Road</td>\n",
       "      <td>MIDDLESEX VSP</td>\n",
       "      <td>F</td>\n",
       "      <td>...</td>\n",
       "      <td>White</td>\n",
       "      <td>Externally Generated Stop</td>\n",
       "      <td>Other</td>\n",
       "      <td>False</td>\n",
       "      <td>No Search Conducted</td>\n",
       "      <td>NaN</td>\n",
       "      <td>False</td>\n",
       "      <td>Arrest for Violation</td>\n",
       "      <td>True</td>\n",
       "      <td>-1.562157e+09</td>\n",
       "    </tr>\n",
       "    <tr>\n",
       "      <th>3</th>\n",
       "      <td>VT-2010-00004</td>\n",
       "      <td>VT</td>\n",
       "      <td>2010-07-01</td>\n",
       "      <td>00:11</td>\n",
       "      <td>Whiting</td>\n",
       "      <td>Addison County</td>\n",
       "      <td>50001.0</td>\n",
       "      <td>N MAIN ST</td>\n",
       "      <td>NEW HAVEN VSP</td>\n",
       "      <td>F</td>\n",
       "      <td>...</td>\n",
       "      <td>White</td>\n",
       "      <td>Moving Violation</td>\n",
       "      <td>Moving violation</td>\n",
       "      <td>False</td>\n",
       "      <td>No Search Conducted</td>\n",
       "      <td>NaN</td>\n",
       "      <td>False</td>\n",
       "      <td>Arrest for Violation</td>\n",
       "      <td>True</td>\n",
       "      <td>-3.126844e+08</td>\n",
       "    </tr>\n",
       "    <tr>\n",
       "      <th>4</th>\n",
       "      <td>VT-2010-00005</td>\n",
       "      <td>VT</td>\n",
       "      <td>2010-07-01</td>\n",
       "      <td>00:35</td>\n",
       "      <td>Hardwick</td>\n",
       "      <td>Caledonia County</td>\n",
       "      <td>50005.0</td>\n",
       "      <td>i91 nb mm 62</td>\n",
       "      <td>ROYALTON VSP</td>\n",
       "      <td>M</td>\n",
       "      <td>...</td>\n",
       "      <td>White</td>\n",
       "      <td>Moving Violation</td>\n",
       "      <td>Moving violation</td>\n",
       "      <td>False</td>\n",
       "      <td>No Search Conducted</td>\n",
       "      <td>NaN</td>\n",
       "      <td>False</td>\n",
       "      <td>Written Warning</td>\n",
       "      <td>False</td>\n",
       "      <td>9.225661e+08</td>\n",
       "    </tr>\n",
       "  </tbody>\n",
       "</table>\n",
       "<p>5 rows × 23 columns</p>\n",
       "</div>"
      ],
      "text/plain": [
       "              id state   stop_date stop_time     location_raw  \\\n",
       "0  VT-2010-00001    VT  2010-07-01     00:10  East Montpelier   \n",
       "1  VT-2010-00002    VT  2010-07-01     00:10              NaN   \n",
       "2  VT-2010-00003    VT  2010-07-01     00:10              NaN   \n",
       "3  VT-2010-00004    VT  2010-07-01     00:11          Whiting   \n",
       "4  VT-2010-00005    VT  2010-07-01     00:35         Hardwick   \n",
       "\n",
       "         county_name  county_fips  fine_grained_location police_department  \\\n",
       "0  Washington County      50023.0              COUNTY RD     MIDDLESEX VSP   \n",
       "1                NaN          NaN  COUNTY RD; Fitch Road     MIDDLESEX VSP   \n",
       "2                NaN          NaN  COUNTY RD; Fitch Road     MIDDLESEX VSP   \n",
       "3     Addison County      50001.0              N MAIN ST     NEW HAVEN VSP   \n",
       "4   Caledonia County      50005.0           i91 nb mm 62      ROYALTON VSP   \n",
       "\n",
       "  driver_gender      ...       driver_race              violation_raw  \\\n",
       "0             M      ...             White           Moving Violation   \n",
       "1             F      ...             White  Externally Generated Stop   \n",
       "2             F      ...             White  Externally Generated Stop   \n",
       "3             F      ...             White           Moving Violation   \n",
       "4             M      ...             White           Moving Violation   \n",
       "\n",
       "          violation search_conducted      search_type_raw search_type  \\\n",
       "0  Moving violation            False  No Search Conducted         NaN   \n",
       "1             Other            False  No Search Conducted         NaN   \n",
       "2             Other            False  No Search Conducted         NaN   \n",
       "3  Moving violation            False  No Search Conducted         NaN   \n",
       "4  Moving violation            False  No Search Conducted         NaN   \n",
       "\n",
       "   contraband_found          stop_outcome is_arrested    officer_id  \n",
       "0             False              Citation       False -1.562157e+09  \n",
       "1             False  Arrest for Violation        True -1.562157e+09  \n",
       "2             False  Arrest for Violation        True -1.562157e+09  \n",
       "3             False  Arrest for Violation        True -3.126844e+08  \n",
       "4             False       Written Warning       False  9.225661e+08  \n",
       "\n",
       "[5 rows x 23 columns]"
      ]
     },
     "execution_count": 3,
     "metadata": {},
     "output_type": "execute_result"
    }
   ],
   "source": [
    "# Visualizar as cinco primeiras linhas\n",
    "df_vt.head()"
   ]
  },
  {
   "cell_type": "code",
   "execution_count": 4,
   "metadata": {},
   "outputs": [
    {
     "data": {
      "text/plain": [
       "Index(['id', 'state', 'stop_date', 'stop_time', 'location_raw', 'county_name',\n",
       "       'county_fips', 'fine_grained_location', 'police_department',\n",
       "       'driver_gender', 'driver_age_raw', 'driver_age', 'driver_race_raw',\n",
       "       'driver_race', 'violation_raw', 'violation', 'search_conducted',\n",
       "       'search_type_raw', 'search_type', 'contraband_found', 'stop_outcome',\n",
       "       'is_arrested', 'officer_id'],\n",
       "      dtype='object')"
      ]
     },
     "execution_count": 4,
     "metadata": {},
     "output_type": "execute_result"
    }
   ],
   "source": [
    "# Visualizar as colunas\n",
    "df_vt.columns"
   ]
  },
  {
   "cell_type": "markdown",
   "metadata": {},
   "source": [
    "### Verificar os valores"
   ]
  },
  {
   "cell_type": "code",
   "execution_count": 5,
   "metadata": {},
   "outputs": [
    {
     "data": {
      "text/plain": [
       "id                       283285\n",
       "state                    283285\n",
       "stop_date                283285\n",
       "stop_time                283285\n",
       "location_raw             282591\n",
       "county_name              282580\n",
       "county_fips              282580\n",
       "fine_grained_location    282938\n",
       "police_department        283285\n",
       "driver_gender            281573\n",
       "driver_age_raw           282114\n",
       "driver_age               281999\n",
       "driver_race_raw          279301\n",
       "driver_race              278468\n",
       "violation_raw            281107\n",
       "violation                281107\n",
       "search_conducted         283285\n",
       "search_type_raw          281045\n",
       "search_type                3419\n",
       "contraband_found         283251\n",
       "stop_outcome             280960\n",
       "is_arrested              283285\n",
       "officer_id               283273\n",
       "dtype: int64"
      ]
     },
     "execution_count": 5,
     "metadata": {},
     "output_type": "execute_result"
    }
   ],
   "source": [
    "df_vt.count()"
   ]
  },
  {
   "cell_type": "code",
   "execution_count": 6,
   "metadata": {},
   "outputs": [
    {
     "data": {
      "text/plain": [
       "id                       273181\n",
       "state                    273181\n",
       "stop_date                273181\n",
       "stop_time                273181\n",
       "location_raw             273181\n",
       "county_name              273181\n",
       "county_fips              273181\n",
       "fine_grained_location    273181\n",
       "police_department        273181\n",
       "driver_gender            273181\n",
       "driver_age_raw           273181\n",
       "driver_age               273181\n",
       "driver_race_raw          273181\n",
       "driver_race              273181\n",
       "violation_raw            273181\n",
       "violation                273181\n",
       "search_conducted         273181\n",
       "search_type_raw          273181\n",
       "search_type              273181\n",
       "contraband_found         273181\n",
       "stop_outcome             273181\n",
       "is_arrested              273181\n",
       "officer_id               273181\n",
       "dtype: int64"
      ]
     },
     "execution_count": 6,
     "metadata": {},
     "output_type": "execute_result"
    }
   ],
   "source": [
    "# Colocar o mesmo número de valores para cada campo\n",
    "# Fill missing search type values with placeholder\n",
    "df_vt['search_type'].fillna('N/A', inplace=True)\n",
    "\n",
    "# Drop rows with missing values\n",
    "df_vt.dropna(inplace=True)\n",
    "\n",
    "df_vt.count()"
   ]
  },
  {
   "cell_type": "code",
   "execution_count": 7,
   "metadata": {},
   "outputs": [
    {
     "data": {
      "text/plain": [
       "Windham County       37715\n",
       "Windsor County       36464\n",
       "Chittenden County    24815\n",
       "Orange County        24679\n",
       "Washington County    24633\n",
       "Rutland County       22885\n",
       "Addison County       22813\n",
       "Bennington County    22250\n",
       "Franklin County      19715\n",
       "Caledonia County     16505\n",
       "Orleans County       10344\n",
       "Lamoille County       8604\n",
       "Essex County          1239\n",
       "Grand Isle County      520\n",
       "Name: county_name, dtype: int64"
      ]
     },
     "execution_count": 7,
     "metadata": {},
     "output_type": "execute_result"
    }
   ],
   "source": [
    "### Listar os municipios e a quantidade de parada ocorreu\n",
    "df_vt['county_name'].value_counts()"
   ]
  },
  {
   "cell_type": "markdown",
   "metadata": {},
   "source": [
    "<img src=\"map-vermont.png\" />\n",
    "<p style=\"text-align:center;\">Visualização no Power BI</p>"
   ]
  },
  {
   "cell_type": "markdown",
   "metadata": {},
   "source": [
    "### Motivo das paradas de trânsito"
   ]
  },
  {
   "cell_type": "code",
   "execution_count": 8,
   "metadata": {},
   "outputs": [
    {
     "data": {
      "text/plain": [
       "Moving violation      212100\n",
       "Equipment              50600\n",
       "Other                   9768\n",
       "DUI                      711\n",
       "Other (non-mapped)         2\n",
       "Name: violation, dtype: int64"
      ]
     },
     "execution_count": 8,
     "metadata": {},
     "output_type": "execute_result"
    }
   ],
   "source": [
    "df_vt['violation'].value_counts()"
   ]
  },
  {
   "cell_type": "markdown",
   "metadata": {},
   "source": [
    "- Moving Violation = excesso de velocidade, condução imprudente, etc.\n",
    "- Equipment = luzes com defeito, modificações ilegais, etc.\n",
    "- Other = Investigatory Stop(a polícia tem motivos para suspeitar que o motorista do veículo cometeu um crime), Externally Generated Stop(possivelmente como resultado de um acidente de carro);\n",
    "- DUI = dirigir embriagado"
   ]
  },
  {
   "cell_type": "markdown",
   "metadata": {},
   "source": [
    "### Resultado das paradas"
   ]
  },
  {
   "cell_type": "code",
   "execution_count": 9,
   "metadata": {},
   "outputs": [
    {
     "data": {
      "text/plain": [
       "Written Warning         166488\n",
       "Citation                103401\n",
       "Arrest for Violation      3206\n",
       "Warrant Arrest              76\n",
       "Verbal Warning              10\n",
       "Name: stop_outcome, dtype: int64"
      ]
     },
     "execution_count": 9,
     "metadata": {},
     "output_type": "execute_result"
    }
   ],
   "source": [
    "df_vt['stop_outcome'].value_counts()"
   ]
  },
  {
   "cell_type": "markdown",
   "metadata": {},
   "source": [
    "A maioria das paradas resulta em uma advertência por escrito - que aparece no registro, mas não tem penalidade direta. Um pouco mais de 1/3 das paradas resultam em uma citação (comumente conhecida como ticket), que vem com uma multa direta e pode carregar outros efeitos colaterais negativos, como aumentar os prêmios de seguro de automóvel de um motorista.\n",
    "\n",
    "A decisão de dar um aviso ou uma citação é muitas vezes a critério do policial, por isso pode ser uma boa fonte para estudar o preconceito."
   ]
  },
  {
   "cell_type": "markdown",
   "metadata": {},
   "source": [
    "### Paradas por sexo"
   ]
  },
  {
   "cell_type": "code",
   "execution_count": 10,
   "metadata": {},
   "outputs": [
    {
     "data": {
      "text/plain": [
       "M    174070\n",
       "F     99111\n",
       "Name: driver_gender, dtype: int64"
      ]
     },
     "execution_count": 10,
     "metadata": {},
     "output_type": "execute_result"
    }
   ],
   "source": [
    "df_vt['driver_gender'].value_counts()"
   ]
  },
  {
   "cell_type": "markdown",
   "metadata": {},
   "source": [
    "Podemos ver que aproximadamente 36% das paradas são de mulheres, e 64% são de homens."
   ]
  },
  {
   "cell_type": "markdown",
   "metadata": {},
   "source": [
    "### Paradas por raça"
   ]
  },
  {
   "cell_type": "code",
   "execution_count": 11,
   "metadata": {},
   "outputs": [
    {
     "data": {
      "text/plain": [
       "White       261339\n",
       "Black         5571\n",
       "Asian         3446\n",
       "Hispanic      2562\n",
       "Other          263\n",
       "Name: driver_race, dtype: int64"
      ]
     },
     "execution_count": 11,
     "metadata": {},
     "output_type": "execute_result"
    }
   ],
   "source": [
    "df_vt['driver_race'].value_counts()"
   ]
  },
  {
   "cell_type": "markdown",
   "metadata": {},
   "source": [
    "A maioria das paradas de tráfego são de motoristas brancos, o que é esperado, já que <a href=\"https://www.census.gov/quickfacts/VT\">Vermont tem cerca de 94% de brancos</a> (tornando-se o segundo estado menos diversificado do país, atrás do <a href=\"https://www.census.gov/quickfacts/ME\">Maine</a> ). Como os motoristas brancos compõem aproximadamente 94% do tráfego, não há nenhuma tendência óbvia aqui para substituir motoristas não brancos e motoristas brancos. Usando a mesma metodologia, no entanto, também podemos ver que, enquanto os motoristas negros representam cerca de 2% de todo o tráfego, apenas <a href=\"https://www.census.gov/quickfacts/VT\">1,3% da população de Vermont é negra</a>."
   ]
  },
  {
   "cell_type": "markdown",
   "metadata": {},
   "source": [
    "### Frequência de parada por raça e idade"
   ]
  },
  {
   "cell_type": "code",
   "execution_count": 12,
   "metadata": {},
   "outputs": [
    {
     "data": {
      "text/plain": [
       "<matplotlib.legend.Legend at 0x2445b6dc588>"
      ]
     },
     "execution_count": 12,
     "metadata": {},
     "output_type": "execute_result"
    },
    {
     "data": {
      "image/png": "[encoded data removed]",
      "text/plain": [
       "<matplotlib.figure.Figure at 0x2445b6d0630>"
      ]
     },
     "metadata": {},
     "output_type": "display_data"
    }
   ],
   "source": [
    "fig, ax = plt.subplots()\n",
    "ax.set_xlim(15, 70)\n",
    "for race in df_vt['driver_race'].unique():\n",
    "    s = df_vt[df_vt['driver_race'] == race]['driver_age']\n",
    "    s.plot.kde(ax=ax, label=race)\n",
    "ax.legend()"
   ]
  },
  {
   "cell_type": "markdown",
   "metadata": {},
   "source": [
    "- Podemos ver que os jovens condutores no final da adolescência e com vinte e poucos anos são os mais propensos a serem parados;\n",
    "- Entre os 25 e 35 anos, a taxa de parada de cada demográfico cai rapidamente;\n",
    "- Para os motoristas brancos entre 35 a 50 anos a taxa de parada fica estável, enquanto para os demais motoristas só cai."
   ]
  },
  {
   "cell_type": "markdown",
   "metadata": {},
   "source": [
    "## Violação e análise de dados"
   ]
  },
  {
   "cell_type": "markdown",
   "metadata": {},
   "source": [
    "### Função auxiliar de análise"
   ]
  },
  {
   "cell_type": "markdown",
   "metadata": {},
   "source": [
    "Para ajudar nessa análise, definiremos uma função auxiliar para agregar algumas estatísticas importantes do nosso conjunto de dados.\n",
    "\n",
    "- citations_per_warning- A proporção de citações para avisos. Um número maior significa uma maior probabilidade de ser emitido em vez de sair com um aviso.\n",
    "- arrest_rate - A porcentagem de paradas que terminam em uma prisão."
   ]
  },
  {
   "cell_type": "code",
   "execution_count": 13,
   "metadata": {},
   "outputs": [],
   "source": [
    "def compute_outcome_stats(df):\n",
    "    \"\"\"Compute estatísticas sobre as quantidades relativas de detenções, avisos e citações\"\"\"\n",
    "    n_total = len(df)\n",
    "    n_warnings = len(df[df['stop_outcome'] == 'Written Warning'])\n",
    "    n_citations = len(df[df['stop_outcome'] == 'Citation'])\n",
    "    n_arrests = len(df[df['stop_outcome'] == 'Arrest for Violation'])\n",
    "    citations_per_warning = n_citations / n_warnings\n",
    "    arrest_rate = n_arrests / n_total\n",
    "    \n",
    "    return(pd.Series(data = {\n",
    "        'n_total': n_total,\n",
    "        'n_warnings': n_warnings,\n",
    "        'n_citations': n_citations,\n",
    "        'n_arrests': n_arrests,\n",
    "        'citations_per_warning': citations_per_warning,\n",
    "        'arrest_rate': arrest_rate,\n",
    "    }))"
   ]
  },
  {
   "cell_type": "code",
   "execution_count": 14,
   "metadata": {},
   "outputs": [
    {
     "data": {
      "text/plain": [
       "arrest_rate                   0.011736\n",
       "citations_per_warning         0.621072\n",
       "n_arrests                  3206.000000\n",
       "n_citations              103401.000000\n",
       "n_total                  273181.000000\n",
       "n_warnings               166488.000000\n",
       "dtype: float64"
      ]
     },
     "execution_count": 14,
     "metadata": {},
     "output_type": "execute_result"
    }
   ],
   "source": [
    "compute_outcome_stats(df_vt)"
   ]
  },
  {
   "cell_type": "markdown",
   "metadata": {},
   "source": [
    "No resultado acima, podemos ver que cerca 1.17% de paradas de tráfego resultam em uma parada, e há 0.62% notificações em média emitidas por aviso. "
   ]
  },
  {
   "cell_type": "markdown",
   "metadata": {},
   "source": [
    "### Repartição por gênero"
   ]
  },
  {
   "cell_type": "markdown",
   "metadata": {},
   "source": [
    "Usando a mesma função auxiliar com o método groupby, podemos comparar dados de motoristas do sexo feminino e masculino"
   ]
  },
  {
   "cell_type": "code",
   "execution_count": 15,
   "metadata": {},
   "outputs": [
    {
     "data": {
      "text/html": [
       "<div>\n",
       "<style scoped>\n",
       "    .dataframe tbody tr th:only-of-type {\n",
       "        vertical-align: middle;\n",
       "    }\n",
       "\n",
       "    .dataframe tbody tr th {\n",
       "        vertical-align: top;\n",
       "    }\n",
       "\n",
       "    .dataframe thead th {\n",
       "        text-align: right;\n",
       "    }\n",
       "</style>\n",
       "<table border=\"1\" class=\"dataframe\">\n",
       "  <thead>\n",
       "    <tr style=\"text-align: right;\">\n",
       "      <th></th>\n",
       "      <th>arrest_rate</th>\n",
       "      <th>citations_per_warning</th>\n",
       "      <th>n_arrests</th>\n",
       "      <th>n_citations</th>\n",
       "      <th>n_total</th>\n",
       "      <th>n_warnings</th>\n",
       "    </tr>\n",
       "    <tr>\n",
       "      <th>driver_gender</th>\n",
       "      <th></th>\n",
       "      <th></th>\n",
       "      <th></th>\n",
       "      <th></th>\n",
       "      <th></th>\n",
       "      <th></th>\n",
       "    </tr>\n",
       "  </thead>\n",
       "  <tbody>\n",
       "    <tr>\n",
       "      <th>F</th>\n",
       "      <td>0.007043</td>\n",
       "      <td>0.548247</td>\n",
       "      <td>698.0</td>\n",
       "      <td>34840.0</td>\n",
       "      <td>99111.0</td>\n",
       "      <td>63548.0</td>\n",
       "    </tr>\n",
       "    <tr>\n",
       "      <th>M</th>\n",
       "      <td>0.014408</td>\n",
       "      <td>0.666029</td>\n",
       "      <td>2508.0</td>\n",
       "      <td>68561.0</td>\n",
       "      <td>174070.0</td>\n",
       "      <td>102940.0</td>\n",
       "    </tr>\n",
       "  </tbody>\n",
       "</table>\n",
       "</div>"
      ],
      "text/plain": [
       "               arrest_rate  citations_per_warning  n_arrests  n_citations  \\\n",
       "driver_gender                                                               \n",
       "F                 0.007043               0.548247      698.0      34840.0   \n",
       "M                 0.014408               0.666029     2508.0      68561.0   \n",
       "\n",
       "                n_total  n_warnings  \n",
       "driver_gender                        \n",
       "F               99111.0     63548.0  \n",
       "M              174070.0    102940.0  "
      ]
     },
     "execution_count": 15,
     "metadata": {},
     "output_type": "execute_result"
    }
   ],
   "source": [
    "df_vt.groupby('driver_gender').apply(compute_outcome_stats)"
   ]
  },
  {
   "cell_type": "markdown",
   "metadata": {},
   "source": [
    "Podemos ver aqui que os homens são, em média, duas vezes mais propensos a serem presos durante uma parada de trânsito, e também são ligeiramente mais propensos a receber uma citação do que as mulheres."
   ]
  },
  {
   "cell_type": "markdown",
   "metadata": {},
   "source": [
    "### Repartição por raça"
   ]
  },
  {
   "cell_type": "code",
   "execution_count": 16,
   "metadata": {
    "scrolled": true
   },
   "outputs": [
    {
     "data": {
      "text/html": [
       "<div>\n",
       "<style scoped>\n",
       "    .dataframe tbody tr th:only-of-type {\n",
       "        vertical-align: middle;\n",
       "    }\n",
       "\n",
       "    .dataframe tbody tr th {\n",
       "        vertical-align: top;\n",
       "    }\n",
       "\n",
       "    .dataframe thead th {\n",
       "        text-align: right;\n",
       "    }\n",
       "</style>\n",
       "<table border=\"1\" class=\"dataframe\">\n",
       "  <thead>\n",
       "    <tr style=\"text-align: right;\">\n",
       "      <th></th>\n",
       "      <th>arrest_rate</th>\n",
       "      <th>citations_per_warning</th>\n",
       "      <th>n_arrests</th>\n",
       "      <th>n_citations</th>\n",
       "      <th>n_total</th>\n",
       "      <th>n_warnings</th>\n",
       "    </tr>\n",
       "    <tr>\n",
       "      <th>driver_race</th>\n",
       "      <th></th>\n",
       "      <th></th>\n",
       "      <th></th>\n",
       "      <th></th>\n",
       "      <th></th>\n",
       "      <th></th>\n",
       "    </tr>\n",
       "  </thead>\n",
       "  <tbody>\n",
       "    <tr>\n",
       "      <th>Asian</th>\n",
       "      <td>0.006384</td>\n",
       "      <td>1.002339</td>\n",
       "      <td>22.0</td>\n",
       "      <td>1714.0</td>\n",
       "      <td>3446.0</td>\n",
       "      <td>1710.0</td>\n",
       "    </tr>\n",
       "    <tr>\n",
       "      <th>Black</th>\n",
       "      <td>0.019925</td>\n",
       "      <td>0.802379</td>\n",
       "      <td>111.0</td>\n",
       "      <td>2428.0</td>\n",
       "      <td>5571.0</td>\n",
       "      <td>3026.0</td>\n",
       "    </tr>\n",
       "    <tr>\n",
       "      <th>Hispanic</th>\n",
       "      <td>0.016393</td>\n",
       "      <td>0.865827</td>\n",
       "      <td>42.0</td>\n",
       "      <td>1168.0</td>\n",
       "      <td>2562.0</td>\n",
       "      <td>1349.0</td>\n",
       "    </tr>\n",
       "    <tr>\n",
       "      <th>Other</th>\n",
       "      <td>0.026616</td>\n",
       "      <td>1.048000</td>\n",
       "      <td>7.0</td>\n",
       "      <td>131.0</td>\n",
       "      <td>263.0</td>\n",
       "      <td>125.0</td>\n",
       "    </tr>\n",
       "    <tr>\n",
       "      <th>White</th>\n",
       "      <td>0.011571</td>\n",
       "      <td>0.611188</td>\n",
       "      <td>3024.0</td>\n",
       "      <td>97960.0</td>\n",
       "      <td>261339.0</td>\n",
       "      <td>160278.0</td>\n",
       "    </tr>\n",
       "  </tbody>\n",
       "</table>\n",
       "</div>"
      ],
      "text/plain": [
       "             arrest_rate  citations_per_warning  n_arrests  n_citations  \\\n",
       "driver_race                                                               \n",
       "Asian           0.006384               1.002339       22.0       1714.0   \n",
       "Black           0.019925               0.802379      111.0       2428.0   \n",
       "Hispanic        0.016393               0.865827       42.0       1168.0   \n",
       "Other           0.026616               1.048000        7.0        131.0   \n",
       "White           0.011571               0.611188     3024.0      97960.0   \n",
       "\n",
       "              n_total  n_warnings  \n",
       "driver_race                        \n",
       "Asian          3446.0      1710.0  \n",
       "Black          5571.0      3026.0  \n",
       "Hispanic       2562.0      1349.0  \n",
       "Other           263.0       125.0  \n",
       "White        261339.0    160278.0  "
      ]
     },
     "execution_count": 16,
     "metadata": {},
     "output_type": "execute_result"
    }
   ],
   "source": [
    "df_vt.groupby('driver_race').apply(compute_outcome_stats)"
   ]
  },
  {
   "cell_type": "markdown",
   "metadata": {},
   "source": [
    "Podemos ver que os motoristas asiáticos são presos na menor taxa, mas recebem mais notificações (aproximadamente 1 notificação por aviso). Os condutores negros e hispânicos são ambos presos em uma taxa mais alta e têm um ticket mais alto do que os condutores brancos."
   ]
  },
  {
   "cell_type": "code",
   "execution_count": 17,
   "metadata": {},
   "outputs": [
    {
     "data": {
      "text/plain": [
       "<matplotlib.axes._subplots.AxesSubplot at 0x2445b4b87b8>"
      ]
     },
     "execution_count": 17,
     "metadata": {},
     "output_type": "execute_result"
    },
    {
     "data": {
      "image/png": "[encoded data removed]",
      "text/plain": [
       "<matplotlib.figure.Figure at 0x2445b6d0320>"
      ]
     },
     "metadata": {},
     "output_type": "display_data"
    }
   ],
   "source": [
    "race_agg = df_vt.groupby('driver_race').apply(compute_outcome_stats)\n",
    "fig, axes = plt.subplots(nrows=2, ncols=1, figsize=figsize)\n",
    "race_agg['citations_per_warning'].plot.barh(ax=axes[0], figsize=figsize, title='Taxa de citação por raça')\n",
    "race_agg['arrest_rate'].plot.barh(ax=axes[1], figsize=figsize, title='Taxa de detenção por raça')"
   ]
  },
  {
   "cell_type": "markdown",
   "metadata": {},
   "source": [
    "### Agrupar por resultado e violação"
   ]
  },
  {
   "cell_type": "code",
   "execution_count": 18,
   "metadata": {},
   "outputs": [
    {
     "data": {
      "text/html": [
       "<div>\n",
       "<style scoped>\n",
       "    .dataframe tbody tr th:only-of-type {\n",
       "        vertical-align: middle;\n",
       "    }\n",
       "\n",
       "    .dataframe tbody tr th {\n",
       "        vertical-align: top;\n",
       "    }\n",
       "\n",
       "    .dataframe thead th {\n",
       "        text-align: right;\n",
       "    }\n",
       "</style>\n",
       "<table border=\"1\" class=\"dataframe\">\n",
       "  <thead>\n",
       "    <tr style=\"text-align: right;\">\n",
       "      <th></th>\n",
       "      <th></th>\n",
       "      <th>arrest_rate</th>\n",
       "      <th>citations_per_warning</th>\n",
       "      <th>n_arrests</th>\n",
       "      <th>n_citations</th>\n",
       "      <th>n_total</th>\n",
       "      <th>n_warnings</th>\n",
       "    </tr>\n",
       "    <tr>\n",
       "      <th>driver_race</th>\n",
       "      <th>violation</th>\n",
       "      <th></th>\n",
       "      <th></th>\n",
       "      <th></th>\n",
       "      <th></th>\n",
       "      <th></th>\n",
       "      <th></th>\n",
       "    </tr>\n",
       "  </thead>\n",
       "  <tbody>\n",
       "    <tr>\n",
       "      <th rowspan=\"4\" valign=\"top\">Asian</th>\n",
       "      <th>DUI</th>\n",
       "      <td>0.200000</td>\n",
       "      <td>0.333333</td>\n",
       "      <td>2.0</td>\n",
       "      <td>2.0</td>\n",
       "      <td>10.0</td>\n",
       "      <td>6.0</td>\n",
       "    </tr>\n",
       "    <tr>\n",
       "      <th>Equipment</th>\n",
       "      <td>0.006270</td>\n",
       "      <td>0.132143</td>\n",
       "      <td>2.0</td>\n",
       "      <td>37.0</td>\n",
       "      <td>319.0</td>\n",
       "      <td>280.0</td>\n",
       "    </tr>\n",
       "    <tr>\n",
       "      <th>Moving violation</th>\n",
       "      <td>0.005563</td>\n",
       "      <td>1.183190</td>\n",
       "      <td>17.0</td>\n",
       "      <td>1647.0</td>\n",
       "      <td>3056.0</td>\n",
       "      <td>1392.0</td>\n",
       "    </tr>\n",
       "    <tr>\n",
       "      <th>Other</th>\n",
       "      <td>0.016393</td>\n",
       "      <td>0.875000</td>\n",
       "      <td>1.0</td>\n",
       "      <td>28.0</td>\n",
       "      <td>61.0</td>\n",
       "      <td>32.0</td>\n",
       "    </tr>\n",
       "    <tr>\n",
       "      <th rowspan=\"4\" valign=\"top\">Black</th>\n",
       "      <th>DUI</th>\n",
       "      <td>0.200000</td>\n",
       "      <td>0.142857</td>\n",
       "      <td>2.0</td>\n",
       "      <td>1.0</td>\n",
       "      <td>10.0</td>\n",
       "      <td>7.0</td>\n",
       "    </tr>\n",
       "    <tr>\n",
       "      <th>Equipment</th>\n",
       "      <td>0.029181</td>\n",
       "      <td>0.220651</td>\n",
       "      <td>26.0</td>\n",
       "      <td>156.0</td>\n",
       "      <td>891.0</td>\n",
       "      <td>707.0</td>\n",
       "    </tr>\n",
       "    <tr>\n",
       "      <th>Moving violation</th>\n",
       "      <td>0.016052</td>\n",
       "      <td>0.942385</td>\n",
       "      <td>71.0</td>\n",
       "      <td>2110.0</td>\n",
       "      <td>4423.0</td>\n",
       "      <td>2239.0</td>\n",
       "    </tr>\n",
       "    <tr>\n",
       "      <th>Other</th>\n",
       "      <td>0.048583</td>\n",
       "      <td>2.205479</td>\n",
       "      <td>12.0</td>\n",
       "      <td>161.0</td>\n",
       "      <td>247.0</td>\n",
       "      <td>73.0</td>\n",
       "    </tr>\n",
       "    <tr>\n",
       "      <th rowspan=\"4\" valign=\"top\">Hispanic</th>\n",
       "      <th>DUI</th>\n",
       "      <td>0.200000</td>\n",
       "      <td>3.000000</td>\n",
       "      <td>2.0</td>\n",
       "      <td>6.0</td>\n",
       "      <td>10.0</td>\n",
       "      <td>2.0</td>\n",
       "    </tr>\n",
       "    <tr>\n",
       "      <th>Equipment</th>\n",
       "      <td>0.023560</td>\n",
       "      <td>0.187898</td>\n",
       "      <td>9.0</td>\n",
       "      <td>59.0</td>\n",
       "      <td>382.0</td>\n",
       "      <td>314.0</td>\n",
       "    </tr>\n",
       "    <tr>\n",
       "      <th>Moving violation</th>\n",
       "      <td>0.012422</td>\n",
       "      <td>1.058824</td>\n",
       "      <td>26.0</td>\n",
       "      <td>1062.0</td>\n",
       "      <td>2093.0</td>\n",
       "      <td>1003.0</td>\n",
       "    </tr>\n",
       "    <tr>\n",
       "      <th>Other</th>\n",
       "      <td>0.064935</td>\n",
       "      <td>1.366667</td>\n",
       "      <td>5.0</td>\n",
       "      <td>41.0</td>\n",
       "      <td>77.0</td>\n",
       "      <td>30.0</td>\n",
       "    </tr>\n",
       "    <tr>\n",
       "      <th rowspan=\"3\" valign=\"top\">Other</th>\n",
       "      <th>Equipment</th>\n",
       "      <td>0.069767</td>\n",
       "      <td>0.250000</td>\n",
       "      <td>3.0</td>\n",
       "      <td>8.0</td>\n",
       "      <td>43.0</td>\n",
       "      <td>32.0</td>\n",
       "    </tr>\n",
       "    <tr>\n",
       "      <th>Moving violation</th>\n",
       "      <td>0.014493</td>\n",
       "      <td>1.344828</td>\n",
       "      <td>3.0</td>\n",
       "      <td>117.0</td>\n",
       "      <td>207.0</td>\n",
       "      <td>87.0</td>\n",
       "    </tr>\n",
       "    <tr>\n",
       "      <th>Other</th>\n",
       "      <td>0.076923</td>\n",
       "      <td>1.000000</td>\n",
       "      <td>1.0</td>\n",
       "      <td>6.0</td>\n",
       "      <td>13.0</td>\n",
       "      <td>6.0</td>\n",
       "    </tr>\n",
       "    <tr>\n",
       "      <th rowspan=\"5\" valign=\"top\">White</th>\n",
       "      <th>DUI</th>\n",
       "      <td>0.192364</td>\n",
       "      <td>0.455026</td>\n",
       "      <td>131.0</td>\n",
       "      <td>172.0</td>\n",
       "      <td>681.0</td>\n",
       "      <td>378.0</td>\n",
       "    </tr>\n",
       "    <tr>\n",
       "      <th>Equipment</th>\n",
       "      <td>0.012233</td>\n",
       "      <td>0.190486</td>\n",
       "      <td>599.0</td>\n",
       "      <td>7736.0</td>\n",
       "      <td>48965.0</td>\n",
       "      <td>40612.0</td>\n",
       "    </tr>\n",
       "    <tr>\n",
       "      <th>Moving violation</th>\n",
       "      <td>0.008635</td>\n",
       "      <td>0.732720</td>\n",
       "      <td>1747.0</td>\n",
       "      <td>84797.0</td>\n",
       "      <td>202321.0</td>\n",
       "      <td>115729.0</td>\n",
       "    </tr>\n",
       "    <tr>\n",
       "      <th>Other</th>\n",
       "      <td>0.058378</td>\n",
       "      <td>1.476672</td>\n",
       "      <td>547.0</td>\n",
       "      <td>5254.0</td>\n",
       "      <td>9370.0</td>\n",
       "      <td>3558.0</td>\n",
       "    </tr>\n",
       "    <tr>\n",
       "      <th>Other (non-mapped)</th>\n",
       "      <td>0.000000</td>\n",
       "      <td>1.000000</td>\n",
       "      <td>0.0</td>\n",
       "      <td>1.0</td>\n",
       "      <td>2.0</td>\n",
       "      <td>1.0</td>\n",
       "    </tr>\n",
       "  </tbody>\n",
       "</table>\n",
       "</div>"
      ],
      "text/plain": [
       "                                arrest_rate  citations_per_warning  n_arrests  \\\n",
       "driver_race violation                                                           \n",
       "Asian       DUI                    0.200000               0.333333        2.0   \n",
       "            Equipment              0.006270               0.132143        2.0   \n",
       "            Moving violation       0.005563               1.183190       17.0   \n",
       "            Other                  0.016393               0.875000        1.0   \n",
       "Black       DUI                    0.200000               0.142857        2.0   \n",
       "            Equipment              0.029181               0.220651       26.0   \n",
       "            Moving violation       0.016052               0.942385       71.0   \n",
       "            Other                  0.048583               2.205479       12.0   \n",
       "Hispanic    DUI                    0.200000               3.000000        2.0   \n",
       "            Equipment              0.023560               0.187898        9.0   \n",
       "            Moving violation       0.012422               1.058824       26.0   \n",
       "            Other                  0.064935               1.366667        5.0   \n",
       "Other       Equipment              0.069767               0.250000        3.0   \n",
       "            Moving violation       0.014493               1.344828        3.0   \n",
       "            Other                  0.076923               1.000000        1.0   \n",
       "White       DUI                    0.192364               0.455026      131.0   \n",
       "            Equipment              0.012233               0.190486      599.0   \n",
       "            Moving violation       0.008635               0.732720     1747.0   \n",
       "            Other                  0.058378               1.476672      547.0   \n",
       "            Other (non-mapped)     0.000000               1.000000        0.0   \n",
       "\n",
       "                                n_citations   n_total  n_warnings  \n",
       "driver_race violation                                              \n",
       "Asian       DUI                         2.0      10.0         6.0  \n",
       "            Equipment                  37.0     319.0       280.0  \n",
       "            Moving violation         1647.0    3056.0      1392.0  \n",
       "            Other                      28.0      61.0        32.0  \n",
       "Black       DUI                         1.0      10.0         7.0  \n",
       "            Equipment                 156.0     891.0       707.0  \n",
       "            Moving violation         2110.0    4423.0      2239.0  \n",
       "            Other                     161.0     247.0        73.0  \n",
       "Hispanic    DUI                         6.0      10.0         2.0  \n",
       "            Equipment                  59.0     382.0       314.0  \n",
       "            Moving violation         1062.0    2093.0      1003.0  \n",
       "            Other                      41.0      77.0        30.0  \n",
       "Other       Equipment                   8.0      43.0        32.0  \n",
       "            Moving violation          117.0     207.0        87.0  \n",
       "            Other                       6.0      13.0         6.0  \n",
       "White       DUI                       172.0     681.0       378.0  \n",
       "            Equipment                7736.0   48965.0     40612.0  \n",
       "            Moving violation        84797.0  202321.0    115729.0  \n",
       "            Other                    5254.0    9370.0      3558.0  \n",
       "            Other (non-mapped)          1.0       2.0         1.0  "
      ]
     },
     "execution_count": 18,
     "metadata": {},
     "output_type": "execute_result"
    }
   ],
   "source": [
    "df_vt.groupby(['driver_race', 'violation']).apply(compute_outcome_stats)"
   ]
  },
  {
   "cell_type": "code",
   "execution_count": 19,
   "metadata": {},
   "outputs": [],
   "source": [
    "df_vt['is_white'] = df_vt['driver_race'] == 'White'\n",
    "\n",
    "df_vt_filtered = df_vt[~df_vt['violation'].isin(['Other (non-mapped)', 'DUI'])]"
   ]
  },
  {
   "cell_type": "markdown",
   "metadata": {},
   "source": [
    "- Estamos gerando uma nova coluna para representar se o driver é branco ou não. \n",
    "- Também estamos gerando uma versão filtrada do dataframe que remove os dois tipos de violação com o menor número de pontos de dados."
   ]
  },
  {
   "cell_type": "code",
   "execution_count": 20,
   "metadata": {},
   "outputs": [
    {
     "data": {
      "text/html": [
       "<div>\n",
       "<style scoped>\n",
       "    .dataframe tbody tr th:only-of-type {\n",
       "        vertical-align: middle;\n",
       "    }\n",
       "\n",
       "    .dataframe tbody tr th {\n",
       "        vertical-align: top;\n",
       "    }\n",
       "\n",
       "    .dataframe thead th {\n",
       "        text-align: right;\n",
       "    }\n",
       "</style>\n",
       "<table border=\"1\" class=\"dataframe\">\n",
       "  <thead>\n",
       "    <tr style=\"text-align: right;\">\n",
       "      <th></th>\n",
       "      <th></th>\n",
       "      <th>arrest_rate</th>\n",
       "      <th>citations_per_warning</th>\n",
       "      <th>n_arrests</th>\n",
       "      <th>n_citations</th>\n",
       "      <th>n_total</th>\n",
       "      <th>n_warnings</th>\n",
       "    </tr>\n",
       "    <tr>\n",
       "      <th>is_white</th>\n",
       "      <th>violation</th>\n",
       "      <th></th>\n",
       "      <th></th>\n",
       "      <th></th>\n",
       "      <th></th>\n",
       "      <th></th>\n",
       "      <th></th>\n",
       "    </tr>\n",
       "  </thead>\n",
       "  <tbody>\n",
       "    <tr>\n",
       "      <th rowspan=\"3\" valign=\"top\">False</th>\n",
       "      <th>Equipment</th>\n",
       "      <td>0.024465</td>\n",
       "      <td>0.195049</td>\n",
       "      <td>40.0</td>\n",
       "      <td>260.0</td>\n",
       "      <td>1635.0</td>\n",
       "      <td>1333.0</td>\n",
       "    </tr>\n",
       "    <tr>\n",
       "      <th>Moving violation</th>\n",
       "      <td>0.011964</td>\n",
       "      <td>1.045541</td>\n",
       "      <td>117.0</td>\n",
       "      <td>4936.0</td>\n",
       "      <td>9779.0</td>\n",
       "      <td>4721.0</td>\n",
       "    </tr>\n",
       "    <tr>\n",
       "      <th>Other</th>\n",
       "      <td>0.047739</td>\n",
       "      <td>1.673759</td>\n",
       "      <td>19.0</td>\n",
       "      <td>236.0</td>\n",
       "      <td>398.0</td>\n",
       "      <td>141.0</td>\n",
       "    </tr>\n",
       "    <tr>\n",
       "      <th rowspan=\"3\" valign=\"top\">True</th>\n",
       "      <th>Equipment</th>\n",
       "      <td>0.012233</td>\n",
       "      <td>0.190486</td>\n",
       "      <td>599.0</td>\n",
       "      <td>7736.0</td>\n",
       "      <td>48965.0</td>\n",
       "      <td>40612.0</td>\n",
       "    </tr>\n",
       "    <tr>\n",
       "      <th>Moving violation</th>\n",
       "      <td>0.008635</td>\n",
       "      <td>0.732720</td>\n",
       "      <td>1747.0</td>\n",
       "      <td>84797.0</td>\n",
       "      <td>202321.0</td>\n",
       "      <td>115729.0</td>\n",
       "    </tr>\n",
       "    <tr>\n",
       "      <th>Other</th>\n",
       "      <td>0.058378</td>\n",
       "      <td>1.476672</td>\n",
       "      <td>547.0</td>\n",
       "      <td>5254.0</td>\n",
       "      <td>9370.0</td>\n",
       "      <td>3558.0</td>\n",
       "    </tr>\n",
       "  </tbody>\n",
       "</table>\n",
       "</div>"
      ],
      "text/plain": [
       "                           arrest_rate  citations_per_warning  n_arrests  \\\n",
       "is_white violation                                                         \n",
       "False    Equipment            0.024465               0.195049       40.0   \n",
       "         Moving violation     0.011964               1.045541      117.0   \n",
       "         Other                0.047739               1.673759       19.0   \n",
       "True     Equipment            0.012233               0.190486      599.0   \n",
       "         Moving violation     0.008635               0.732720     1747.0   \n",
       "         Other                0.058378               1.476672      547.0   \n",
       "\n",
       "                           n_citations   n_total  n_warnings  \n",
       "is_white violation                                            \n",
       "False    Equipment               260.0    1635.0      1333.0  \n",
       "         Moving violation       4936.0    9779.0      4721.0  \n",
       "         Other                   236.0     398.0       141.0  \n",
       "True     Equipment              7736.0   48965.0     40612.0  \n",
       "         Moving violation      84797.0  202321.0    115729.0  \n",
       "         Other                  5254.0    9370.0      3558.0  "
      ]
     },
     "execution_count": 20,
     "metadata": {},
     "output_type": "execute_result"
    }
   ],
   "source": [
    "df_vt_filtered.groupby(['is_white', 'violation']).apply(compute_outcome_stats)"
   ]
  },
  {
   "cell_type": "markdown",
   "metadata": {},
   "source": [
    "- Os condutores não brancos são mais propensos a serem presos durante uma parada que foi iniciada devido a um equipamento ou violação de movimento;\n",
    "- Os condutores brancos são mais propensos a serem presos por uma parada de tráfego resultante de \"Outras\"razões;\n",
    "- Os condutores não brancos são mais propensos do que os condutores brancos a receberem tickets para cada violação."
   ]
  },
  {
   "cell_type": "markdown",
   "metadata": {},
   "source": [
    "### Visualização de resultados e violação"
   ]
  },
  {
   "cell_type": "code",
   "execution_count": 21,
   "metadata": {},
   "outputs": [
    {
     "data": {
      "text/plain": [
       "<matplotlib.axes._subplots.AxesSubplot at 0x2445b594898>"
      ]
     },
     "execution_count": 21,
     "metadata": {},
     "output_type": "execute_result"
    },
    {
     "data": {
      "image/png": "[encoded data removed]",
      "text/plain": [
       "<matplotlib.figure.Figure at 0x2445b6d0160>"
      ]
     },
     "metadata": {},
     "output_type": "display_data"
    }
   ],
   "source": [
    "race_stats = df_vt_filtered.groupby(['violation', 'driver_race']).apply(compute_outcome_stats).unstack()\n",
    "fig, axes = plt.subplots(nrows=1, ncols=2, figsize=figsize)\n",
    "race_stats.plot.bar(y='arrest_rate', ax=axes[0], title='Taxa de detenção por raça e violação')\n",
    "race_stats.plot.bar(y='citations_per_warning', ax=axes[1], title='Citações por aviso por raça e violação')"
   ]
  },
  {
   "cell_type": "markdown",
   "metadata": {},
   "source": [
    "- Os condutores hispânicos e negros são geralmente presos em uma taxa mais alta do que os condutores brancos (com exceção da categoria \"Outros\", que é bastante ambígua);\n",
    "- Os condutores negros são mais propensos, em geral, a receber uma citação do que os condutores brancos;\n",
    "- Condutores asiáticos são presos a taxas muito baixas e suas taxas de citação são altamente variáveis."
   ]
  },
  {
   "cell_type": "markdown",
   "metadata": {},
   "source": [
    "## Análise de resultados de pesquisa"
   ]
  },
  {
   "cell_type": "markdown",
   "metadata": {},
   "source": [
    "Existem dois campos que podem ser verificados:\n",
    "- search_conducted\n",
    "- contraband_found\n",
    "\n",
    "Na análise do \"Stanford Open Policing Project\", eles usam esses dois campos para realizar o que é conhecido como \"teste de resultado\".\n",
    "\n",
    "No site do <a href=\"https://openpolicing.stanford.edu/findings/\">projeto</a> , o \"teste do resultado\" é resumido claramente.\n",
    "\n",
    "Na década de 1950, o economista ganhador do Prêmio Nobel, Gary Becker, propôs um método elegante para testar o viés nas decisões de busca: o teste do resultado.\n",
    "\n",
    "Becker propôs olhar para os resultados da pesquisa. Se os policiais não discriminarem, argumentou, eles deveriam encontrar contrabando - como drogas ilegais ou armas - em minorias pesquisadas na mesma proporção que em brancos pesquisados. Se as pesquisas de minorias revelarem contrabando em taxas mais baixas do que as pesquisas de brancos, o teste de resultados sugere que os policiais estão aplicando um padrão duplo, buscando minorias com base em menos evidências.\"\n",
    "\n",
    "Os autores do projeto também afirmam que apenas usando a \"taxa de acerto\", ou a taxa de pesquisas em que o contrabando é encontrado, pode ser enganosa. Por esse motivo, também precisaremos usar a \"taxa de pesquisa\" em nossa análise - a taxa na qual uma parada de tráfego resulta em uma pesquisa.\n",
    "\n",
    "Vamos usar os dados disponíveis para realizar nosso próprio teste de resultado, a fim de determinar se as minorias em Vermont são rotineiramente pesquisadas com base em menos evidências do que os condutores brancos."
   ]
  },
  {
   "cell_type": "markdown",
   "metadata": {},
   "source": [
    "### Taxa de pesquisa e taxa de hits"
   ]
  },
  {
   "cell_type": "markdown",
   "metadata": {},
   "source": [
    "Vamos definir uma nova função para calcular a taxa de pesquisa e a taxa de acerto do tráfego em nosso dataframe.\n",
    "\n",
    "- Taxa de pesquisa - a taxa na qual uma parada de tráfego resulta em uma pesquisa. Uma taxa de pesquisa 0.20significaria que, de 100 paradas de tráfego, 20 resultariam em uma pesquisa.\n",
    "- Taxa de Acertos - A taxa na qual o contrabando é encontrado em uma pesquisa. Uma taxa de acerto 0.80significaria que, de 100 buscas, 80 buscas resultaram em contrabando (drogas, armas não registradas, etc.) sendo encontrado."
   ]
  },
  {
   "cell_type": "code",
   "execution_count": 22,
   "metadata": {},
   "outputs": [],
   "source": [
    "def compute_search_stats(df):\n",
    "    \"\"\"Calcular a taxa de pesquisa e a taxa de resultados\"\"\"\n",
    "    search_conducted = df['search_conducted']\n",
    "    contraband_found = df['contraband_found']\n",
    "    n_stops = len(search_conducted)\n",
    "    n_searches = sum(search_conducted)\n",
    "    n_hits = sum(contraband_found)\n",
    "    \n",
    "    # Filtrar condados com poucas paradas\n",
    "    if(n_stops) < 50:\n",
    "        search_rate = None\n",
    "    else:\n",
    "        search_rate = n_searches / n_stops\n",
    "    \n",
    "    # Filtrar condados com poucas pesquisas\n",
    "    if(n_searches) < 5:\n",
    "        hit_rate = None\n",
    "    else:\n",
    "        hit_rate = n_hits / n_searches\n",
    "    \n",
    "    return(pd.Series(data = {\n",
    "        'n_stops': n_stops,\n",
    "        'n_searches': n_searches,\n",
    "        'n_hits': n_hits,\n",
    "        'search_rate': search_rate,\n",
    "        'hit_rate': hit_rate,\n",
    "    }))"
   ]
  },
  {
   "cell_type": "markdown",
   "metadata": {},
   "source": [
    "### Calcular estatísticas de pesquisa para o conjunto de dados inteiro"
   ]
  },
  {
   "cell_type": "code",
   "execution_count": 23,
   "metadata": {},
   "outputs": [
    {
     "data": {
      "text/plain": [
       "hit_rate            0.796262\n",
       "n_hits           2599.000000\n",
       "n_searches       3264.000000\n",
       "n_stops        273181.000000\n",
       "search_rate         0.011948\n",
       "dtype: float64"
      ]
     },
     "execution_count": 23,
     "metadata": {},
     "output_type": "execute_result"
    }
   ],
   "source": [
    "compute_search_stats(df_vt)"
   ]
  },
  {
   "cell_type": "markdown",
   "metadata": {},
   "source": [
    "- Cada parada de tráfego teve uma alteração de 1,2% resultando em uma busca;\n",
    "- Cada busca teve 80% de chance de gerar contrabando."
   ]
  },
  {
   "cell_type": "markdown",
   "metadata": {},
   "source": [
    "### Comparar estatísticas por sexo dos motoristas"
   ]
  },
  {
   "cell_type": "code",
   "execution_count": 24,
   "metadata": {},
   "outputs": [
    {
     "data": {
      "text/html": [
       "<div>\n",
       "<style scoped>\n",
       "    .dataframe tbody tr th:only-of-type {\n",
       "        vertical-align: middle;\n",
       "    }\n",
       "\n",
       "    .dataframe tbody tr th {\n",
       "        vertical-align: top;\n",
       "    }\n",
       "\n",
       "    .dataframe thead th {\n",
       "        text-align: right;\n",
       "    }\n",
       "</style>\n",
       "<table border=\"1\" class=\"dataframe\">\n",
       "  <thead>\n",
       "    <tr style=\"text-align: right;\">\n",
       "      <th></th>\n",
       "      <th>hit_rate</th>\n",
       "      <th>n_hits</th>\n",
       "      <th>n_searches</th>\n",
       "      <th>n_stops</th>\n",
       "      <th>search_rate</th>\n",
       "    </tr>\n",
       "    <tr>\n",
       "      <th>driver_gender</th>\n",
       "      <th></th>\n",
       "      <th></th>\n",
       "      <th></th>\n",
       "      <th></th>\n",
       "      <th></th>\n",
       "    </tr>\n",
       "  </thead>\n",
       "  <tbody>\n",
       "    <tr>\n",
       "      <th>F</th>\n",
       "      <td>0.788820</td>\n",
       "      <td>508.0</td>\n",
       "      <td>644.0</td>\n",
       "      <td>99111.0</td>\n",
       "      <td>0.006498</td>\n",
       "    </tr>\n",
       "    <tr>\n",
       "      <th>M</th>\n",
       "      <td>0.798092</td>\n",
       "      <td>2091.0</td>\n",
       "      <td>2620.0</td>\n",
       "      <td>174070.0</td>\n",
       "      <td>0.015051</td>\n",
       "    </tr>\n",
       "  </tbody>\n",
       "</table>\n",
       "</div>"
      ],
      "text/plain": [
       "               hit_rate  n_hits  n_searches   n_stops  search_rate\n",
       "driver_gender                                                     \n",
       "F              0.788820   508.0       644.0   99111.0     0.006498\n",
       "M              0.798092  2091.0      2620.0  174070.0     0.015051"
      ]
     },
     "execution_count": 24,
     "metadata": {},
     "output_type": "execute_result"
    }
   ],
   "source": [
    "df_vt.groupby(['driver_gender']).apply(compute_search_stats)"
   ]
  },
  {
   "cell_type": "markdown",
   "metadata": {},
   "source": [
    "- Os homens são três vezes mais propensos a serem revistados do que mulheres;\n",
    "- 80% das buscas para ambos os sexos resultaram em contrabando sendo encontrado;\n",
    "- Os dados mostram que os homens são revistados e pegos com contrabando com mais freqüência do que as mulheres, mas não está claro se há alguma discriminação de gênero na decisão de quem pesquisar, já que a taxa de acerto é igual."
   ]
  },
  {
   "cell_type": "markdown",
   "metadata": {},
   "source": [
    "### Comparar estatísticas por idade"
   ]
  },
  {
   "cell_type": "code",
   "execution_count": 27,
   "metadata": {},
   "outputs": [
    {
     "data": {
      "text/html": [
       "<div>\n",
       "<style scoped>\n",
       "    .dataframe tbody tr th:only-of-type {\n",
       "        vertical-align: middle;\n",
       "    }\n",
       "\n",
       "    .dataframe tbody tr th {\n",
       "        vertical-align: top;\n",
       "    }\n",
       "\n",
       "    .dataframe thead th {\n",
       "        text-align: right;\n",
       "    }\n",
       "</style>\n",
       "<table border=\"1\" class=\"dataframe\">\n",
       "  <thead>\n",
       "    <tr style=\"text-align: right;\">\n",
       "      <th></th>\n",
       "      <th>hit_rate</th>\n",
       "      <th>n_hits</th>\n",
       "      <th>n_searches</th>\n",
       "      <th>n_stops</th>\n",
       "      <th>search_rate</th>\n",
       "    </tr>\n",
       "    <tr>\n",
       "      <th>driver_age</th>\n",
       "      <th></th>\n",
       "      <th></th>\n",
       "      <th></th>\n",
       "      <th></th>\n",
       "      <th></th>\n",
       "    </tr>\n",
       "  </thead>\n",
       "  <tbody>\n",
       "    <tr>\n",
       "      <th>(15, 20]</th>\n",
       "      <td>0.846954</td>\n",
       "      <td>570.0</td>\n",
       "      <td>673.0</td>\n",
       "      <td>27443.0</td>\n",
       "      <td>0.024524</td>\n",
       "    </tr>\n",
       "    <tr>\n",
       "      <th>(20, 25]</th>\n",
       "      <td>0.837488</td>\n",
       "      <td>840.0</td>\n",
       "      <td>1003.0</td>\n",
       "      <td>43310.0</td>\n",
       "      <td>0.023159</td>\n",
       "    </tr>\n",
       "    <tr>\n",
       "      <th>(25, 30]</th>\n",
       "      <td>0.788800</td>\n",
       "      <td>493.0</td>\n",
       "      <td>625.0</td>\n",
       "      <td>34794.0</td>\n",
       "      <td>0.017963</td>\n",
       "    </tr>\n",
       "    <tr>\n",
       "      <th>(30, 35]</th>\n",
       "      <td>0.766756</td>\n",
       "      <td>286.0</td>\n",
       "      <td>373.0</td>\n",
       "      <td>27784.0</td>\n",
       "      <td>0.013425</td>\n",
       "    </tr>\n",
       "    <tr>\n",
       "      <th>(35, 40]</th>\n",
       "      <td>0.744186</td>\n",
       "      <td>160.0</td>\n",
       "      <td>215.0</td>\n",
       "      <td>23241.0</td>\n",
       "      <td>0.009251</td>\n",
       "    </tr>\n",
       "    <tr>\n",
       "      <th>(40, 45]</th>\n",
       "      <td>0.692913</td>\n",
       "      <td>88.0</td>\n",
       "      <td>127.0</td>\n",
       "      <td>24083.0</td>\n",
       "      <td>0.005273</td>\n",
       "    </tr>\n",
       "    <tr>\n",
       "      <th>(45, 50]</th>\n",
       "      <td>0.575472</td>\n",
       "      <td>61.0</td>\n",
       "      <td>106.0</td>\n",
       "      <td>24117.0</td>\n",
       "      <td>0.004395</td>\n",
       "    </tr>\n",
       "    <tr>\n",
       "      <th>(50, 55]</th>\n",
       "      <td>0.697368</td>\n",
       "      <td>53.0</td>\n",
       "      <td>76.0</td>\n",
       "      <td>22532.0</td>\n",
       "      <td>0.003373</td>\n",
       "    </tr>\n",
       "    <tr>\n",
       "      <th>(55, 60]</th>\n",
       "      <td>0.833333</td>\n",
       "      <td>30.0</td>\n",
       "      <td>36.0</td>\n",
       "      <td>17522.0</td>\n",
       "      <td>0.002055</td>\n",
       "    </tr>\n",
       "    <tr>\n",
       "      <th>(60, 65]</th>\n",
       "      <td>0.461538</td>\n",
       "      <td>6.0</td>\n",
       "      <td>13.0</td>\n",
       "      <td>12520.0</td>\n",
       "      <td>0.001038</td>\n",
       "    </tr>\n",
       "  </tbody>\n",
       "</table>\n",
       "</div>"
      ],
      "text/plain": [
       "            hit_rate  n_hits  n_searches  n_stops  search_rate\n",
       "driver_age                                                    \n",
       "(15, 20]    0.846954   570.0       673.0  27443.0     0.024524\n",
       "(20, 25]    0.837488   840.0      1003.0  43310.0     0.023159\n",
       "(25, 30]    0.788800   493.0       625.0  34794.0     0.017963\n",
       "(30, 35]    0.766756   286.0       373.0  27784.0     0.013425\n",
       "(35, 40]    0.744186   160.0       215.0  23241.0     0.009251\n",
       "(40, 45]    0.692913    88.0       127.0  24083.0     0.005273\n",
       "(45, 50]    0.575472    61.0       106.0  24117.0     0.004395\n",
       "(50, 55]    0.697368    53.0        76.0  22532.0     0.003373\n",
       "(55, 60]    0.833333    30.0        36.0  17522.0     0.002055\n",
       "(60, 65]    0.461538     6.0        13.0  12520.0     0.001038"
      ]
     },
     "execution_count": 27,
     "metadata": {},
     "output_type": "execute_result"
    }
   ],
   "source": [
    "age_groups = pd.cut(df_vt['driver_age'], np.arange(15, 70, 5))\n",
    "df_vt.groupby(age_groups).apply(compute_search_stats)"
   ]
  },
  {
   "cell_type": "markdown",
   "metadata": {},
   "source": [
    "- A taxa de busca diminui constantemente conforme os motoristas envelhecem;\n",
    "- A taxa de acerto também diminui rapidamente para os motoristas mais velhos."
   ]
  },
  {
   "cell_type": "markdown",
   "metadata": {},
   "source": [
    "### Comparar estatísticas por raça"
   ]
  },
  {
   "cell_type": "code",
   "execution_count": 28,
   "metadata": {},
   "outputs": [
    {
     "data": {
      "text/html": [
       "<div>\n",
       "<style scoped>\n",
       "    .dataframe tbody tr th:only-of-type {\n",
       "        vertical-align: middle;\n",
       "    }\n",
       "\n",
       "    .dataframe tbody tr th {\n",
       "        vertical-align: top;\n",
       "    }\n",
       "\n",
       "    .dataframe thead th {\n",
       "        text-align: right;\n",
       "    }\n",
       "</style>\n",
       "<table border=\"1\" class=\"dataframe\">\n",
       "  <thead>\n",
       "    <tr style=\"text-align: right;\">\n",
       "      <th></th>\n",
       "      <th>hit_rate</th>\n",
       "      <th>n_hits</th>\n",
       "      <th>n_searches</th>\n",
       "      <th>n_stops</th>\n",
       "      <th>search_rate</th>\n",
       "    </tr>\n",
       "    <tr>\n",
       "      <th>driver_race</th>\n",
       "      <th></th>\n",
       "      <th></th>\n",
       "      <th></th>\n",
       "      <th></th>\n",
       "      <th></th>\n",
       "    </tr>\n",
       "  </thead>\n",
       "  <tbody>\n",
       "    <tr>\n",
       "      <th>Asian</th>\n",
       "      <td>0.785714</td>\n",
       "      <td>22.0</td>\n",
       "      <td>28.0</td>\n",
       "      <td>3446.0</td>\n",
       "      <td>0.008125</td>\n",
       "    </tr>\n",
       "    <tr>\n",
       "      <th>Black</th>\n",
       "      <td>0.686620</td>\n",
       "      <td>195.0</td>\n",
       "      <td>284.0</td>\n",
       "      <td>5571.0</td>\n",
       "      <td>0.050978</td>\n",
       "    </tr>\n",
       "    <tr>\n",
       "      <th>Hispanic</th>\n",
       "      <td>0.644231</td>\n",
       "      <td>67.0</td>\n",
       "      <td>104.0</td>\n",
       "      <td>2562.0</td>\n",
       "      <td>0.040593</td>\n",
       "    </tr>\n",
       "    <tr>\n",
       "      <th>Other</th>\n",
       "      <td>0.600000</td>\n",
       "      <td>6.0</td>\n",
       "      <td>10.0</td>\n",
       "      <td>263.0</td>\n",
       "      <td>0.038023</td>\n",
       "    </tr>\n",
       "    <tr>\n",
       "      <th>White</th>\n",
       "      <td>0.813601</td>\n",
       "      <td>2309.0</td>\n",
       "      <td>2838.0</td>\n",
       "      <td>261339.0</td>\n",
       "      <td>0.010859</td>\n",
       "    </tr>\n",
       "  </tbody>\n",
       "</table>\n",
       "</div>"
      ],
      "text/plain": [
       "             hit_rate  n_hits  n_searches   n_stops  search_rate\n",
       "driver_race                                                     \n",
       "Asian        0.785714    22.0        28.0    3446.0     0.008125\n",
       "Black        0.686620   195.0       284.0    5571.0     0.050978\n",
       "Hispanic     0.644231    67.0       104.0    2562.0     0.040593\n",
       "Other        0.600000     6.0        10.0     263.0     0.038023\n",
       "White        0.813601  2309.0      2838.0  261339.0     0.010859"
      ]
     },
     "execution_count": 28,
     "metadata": {},
     "output_type": "execute_result"
    }
   ],
   "source": [
    "df_vt.groupby(['driver_race']).apply(compute_search_stats)"
   ]
  },
  {
   "cell_type": "markdown",
   "metadata": {},
   "source": [
    "Motoristas negros e hispânicos são procurados em taxas muito mais altas do que os motoristas brancos (5% e 4% do tráfego param respectivamente, contra 1% para motoristas brancos), mas as buscas desses motoristas só produzem contrabando 60-70% do tempo, comparado para 80% do tempo para motoristas brancos.\n",
    "\n",
    "Os <b>motoristas negros</b> são <b>500%</b> mais propensos a serem pesquisados do que os motoristas brancos durante uma parada de tráfego, mas são <b>13%</b> menos propensos a serem pegos com contrabando no caso de uma pesquisa.\n",
    "\n",
    "Os <b>motoristas hispânicos</b> têm <b>400%</b> mais chances de serem revistados do que os motoristas brancos durante uma parada no trânsito, mas são <b>17%</b> menos propensos a serem pegos com contrabando no caso de uma busca."
   ]
  },
  {
   "cell_type": "markdown",
   "metadata": {},
   "source": [
    "### Comparar estatísticas de pesquisa por raça e localização"
   ]
  },
  {
   "cell_type": "code",
   "execution_count": 29,
   "metadata": {},
   "outputs": [],
   "source": [
    "def generate_comparison_scatter(df, ax, state, race, field, color):\n",
    "    \"\"\"Gerar gráfico de dispersão comparando campo para motoristas brancos com motoristas minoritários\"\"\"\n",
    "    race_location_agg = df.groupby(['county_fips', 'driver_race']).apply(compute_search_stats).reset_index().dropna()\n",
    "    race_location_agg = race_location_agg.pivot(index='county_fips', columns='driver_race', values=field)\n",
    "    ax = race_location_agg.plot.scatter(ax=ax, x='White', y=race, s=150, label=race, color=color)\n",
    "    return ax\n",
    "\n",
    "def format_scatter_chart(ax, state, field):\n",
    "    \"\"\"Formatar e rotular para gráfico de dispersão\"\"\"\n",
    "    ax.set_xlabel('{} - White'.format(field))\n",
    "    ax.set_ylabel('{} - Non-White'.format(field, race))\n",
    "    ax.set_title('{} By County - {}'.format(field, state))\n",
    "    lim = max(ax.get_xlim()[1], ax.get_ylim()[1])\n",
    "    ax.set_xlim(0, lim)\n",
    "    ax.set_ylim(0, lim)\n",
    "    diag_line, = ax.plot(ax.get_xlim(), ax.get_ylim(), ls='--', c='.3')\n",
    "    ax.legend()\n",
    "    return ax\n",
    "\n",
    "def generate_comparasion_scatters(df, state):\n",
    "    \"\"\"Gere gráficos de dispersão comparando as taxas de pesquisa de motoristas brancos com motoristas negros e hispânicos\"\"\"\n",
    "    fig, axes = plt.subplots(nrows=1, ncols=2, figsize=figsize)\n",
    "    generate_comparison_scatter(df, axes[0], state, 'Black', 'search_rate', 'red')\n",
    "    generate_comparison_scatter(df, axes[0], state, 'Hispanic', 'search_rate', 'orange')\n",
    "    generate_comparison_scatter(df, axes[0], state, 'Asian', 'search_rate', 'green')\n",
    "    format_scatter_chart(axes[0], state, 'Search Rate')\n",
    "\n",
    "    generate_comparison_scatter(df, axes[1], state, 'Black', 'hit_rate', 'red')\n",
    "    generate_comparison_scatter(df, axes[1], state, 'Hispanic', 'hit_rate', 'orange')\n",
    "    generate_comparison_scatter(df, axes[1], state, 'Asian', 'hit_rate', 'green')\n",
    "    format_scatter_chart(axes[1], state, 'Hit Rate')\n",
    "    return fig"
   ]
  },
  {
   "cell_type": "code",
   "execution_count": 30,
   "metadata": {},
   "outputs": [
    {
     "data": {
      "image/png": "[encoded data removed]",
      "text/plain": [
       "<matplotlib.figure.Figure at 0x244601500f0>"
      ]
     },
     "execution_count": 30,
     "metadata": {},
     "output_type": "execute_result"
    },
    {
     "data": {
      "image/png": "[encoded data removed]",
      "text/plain": [
       "<matplotlib.figure.Figure at 0x244601500f0>"
      ]
     },
     "metadata": {},
     "output_type": "display_data"
    }
   ],
   "source": [
    "generate_comparasion_scatters(df_vt, 'VT')"
   ]
  },
  {
   "cell_type": "markdown",
   "metadata": {},
   "source": [
    "Os gráficos acima estão comparando search_rate(à esquerda) e hit_rate(à direita) para motoristas de minoria em comparação com os motoristas brancos em cada município.\n",
    "\n",
    "Se todos os pontos (cada um dos quais representa as estatísticas de um único condado e corrida) seguissem a linha central diagonal, a implicação seria que os condutores brancos e não brancos fossem pesquisados exatamente na mesma proporção com o mesmo padrão exato de condutores. evidência.\n",
    "\n",
    "Infelizmente, esse não é o caso. Nos gráficos acima, podemos ver que, para cada município, a taxa de pesquisa é maior para os motoristas negros e hispânicos, embora a taxa de acerto seja menor."
   ]
  },
  {
   "cell_type": "code",
   "execution_count": 40,
   "metadata": {},
   "outputs": [],
   "source": [
    "def generate_county_search_stats_scatter(df, state):\n",
    "    \"\"\"Gerar um gráfico de dispersão da taxa de pesquisa versos taxa de acerto por raça e município\"\"\"\n",
    "    race_location_agg = df.groupby(['county_fips', 'driver_race']).apply(compute_search_stats)\n",
    "    \n",
    "    colors = ['blue', 'orange', 'red', 'green']\n",
    "    fig, ax = plt.subplots(figsize=figsize)\n",
    "    for c, frame in race_location_agg.groupby(level='driver_race'):\n",
    "        ax.scatter(x=frame['hit_rate'], y=frame['search_rate'], s=150, label=c)\n",
    "    ax.legend(loc='upper center', bbox_to_anchor=(0.5, 1.2), ncol=4, fancybox=True)\n",
    "    ax.set_xlabel('Hit Rate')\n",
    "    ax.set_ylabel('Search Rate')\n",
    "    ax.set_title('Search Stats By County and Race - {}'.format(state))\n",
    "    return fig"
   ]
  },
  {
   "cell_type": "code",
   "execution_count": 41,
   "metadata": {},
   "outputs": [
    {
     "data": {
      "image/png": "[encoded data removed]",
      "text/plain": [
       "<matplotlib.figure.Figure at 0x24467924550>"
      ]
     },
     "execution_count": 41,
     "metadata": {},
     "output_type": "execute_result"
    },
    {
     "data": {
      "image/png": "[encoded data removed]",
      "text/plain": [
       "<matplotlib.figure.Figure at 0x24467924550>"
      ]
     },
     "metadata": {},
     "output_type": "display_data"
    }
   ],
   "source": [
    "generate_county_search_stats_scatter(df_vt, 'VT')"
   ]
  },
  {
   "cell_type": "code",
   "execution_count": null,
   "metadata": {},
   "outputs": [],
   "source": []
  }
 ],
 "metadata": {
  "kernelspec": {
   "display_name": "Python 3",
   "language": "python",
   "name": "python3"
  },
  "language_info": {
   "codemirror_mode": {
    "name": "ipython",
    "version": 3
   },
   "file_extension": ".py",
   "mimetype": "text/x-python",
   "name": "python",
   "nbconvert_exporter": "python",
   "pygments_lexer": "ipython3",
   "version": "3.6.4"
  }
 },
 "nbformat": 4,
 "nbformat_minor": 2
}
